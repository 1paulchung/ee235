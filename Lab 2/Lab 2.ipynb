{
 "cells": [
  {
   "cell_type": "markdown",
   "metadata": {},
   "source": [
    "## Lab 2 Report\n",
    "\n",
    "Paul Chung"
   ]
  },
  {
   "cell_type": "code",
   "execution_count": 2,
   "metadata": {},
   "outputs": [],
   "source": [
    "# We'll refer to this as the \"import cell.\" Every module you import should be imported here.\n",
    "%matplotlib notebook\n",
    "import numpy as np\n",
    "import matplotlib\n",
    "import matplotlib.pyplot as plt\n",
    "import scipy\n",
    "from scipy.io import wavfile as wav\n",
    "from scipy import signal as sig\n",
    "import simpleaudio as sa\n",
    "import decimal\n",
    "# import whatever other modules you use in this lab -- there are more that you need than we've included "
   ]
  },
  {
   "cell_type": "markdown",
   "metadata": {},
   "source": [
    "## Assignment 1 --  Time Scaling Audio Signals"
   ]
  },
  {
   "cell_type": "code",
   "execution_count": 6,
   "metadata": {},
   "outputs": [],
   "source": [
    "# Assignment 1 - Time Scaling Function\n",
    "\n",
    "# Part A\n",
    "# TODO: Here you'd put in your code for the time scaling function\n",
    "# Start with a comment section that explains what the input and output variables are, e.g.\n",
    "# x: input signal vector\n",
    "# fs: sampling rate (in Hz)\n",
    "# a: scaling parameter \n",
    "# returns t: time samples vector corresponding to y: scaled signal\n",
    "\n",
    "def timescale(x, fs, a):\n",
    "    n,d = decimal.Decimal(a).as_integer_ratio()\n",
    "    y= sig.resample_poly(x,d,n)\n",
    "    t=np.arange(0,len(y),1)*(1/fs)\n",
    "    return y,t\n"
   ]
  },
  {
   "cell_type": "code",
   "execution_count": 7,
   "metadata": {},
   "outputs": [
    {
     "ename": "SyntaxError",
     "evalue": "invalid syntax (<ipython-input-7-6c7653877861>, line 14)",
     "output_type": "error",
     "traceback": [
      "\u001b[1;36m  File \u001b[1;32m\"<ipython-input-7-6c7653877861>\"\u001b[1;36m, line \u001b[1;32m14\u001b[0m\n\u001b[1;33m    Uncomment before turnin!\u001b[0m\n\u001b[1;37m              ^\u001b[0m\n\u001b[1;31mSyntaxError\u001b[0m\u001b[1;31m:\u001b[0m invalid syntax\n"
     ]
    }
   ],
   "source": [
    "# Assignment 1 - Playing and Plotting Time Scaled Audio Files \n",
    "\n",
    "# Part B\n",
    "# TODO: Code that solves B\n",
    "\n",
    "fs, y = wav.read('train32.wav')\n",
    "t_y = np.arange(0, (len(y)/fs), 1/fs)\n",
    "\n",
    "# Part C\n",
    "# TODO: Code that solves C\n",
    "w, t_w = timescale(y, fs, 2)\n",
    "v, t_v = timescale(y, fs, 0.5)\n",
    "\n",
    "Uncomment before turnin\n",
    "\n",
    "#play_obj = sa.play_buffer(y, 1, 2, fs)\n",
    "#play_obj.wait_done()\n",
    "#play_obj1 = sa.play_buffer(w, 1, 2, fs)\n",
    "#play_obj1.wait_done()\n",
    "#play_obj2 = sa.play_buffer(v, 1, 2, fs)\n",
    "#play_obj2.wait_done()\n",
    "\n",
    "\n",
    "# Part D\n",
    "# TODO: Code that solves D\n",
    "plt.subplot(3, 1, 1)\n",
    "plt.xlim(0, 4)\n",
    "plt.ylim(-30000, 30000)\n",
    "plt.plot(t_y, y)\n",
    "plt.title('y(t)')\n",
    "plt.xlabel('Time (seconds)')\n",
    "plt.ylabel('Amplitude')\n",
    "\n",
    "plt.subplot(3, 1, 2)\n",
    "plt.xlim(0, 4)\n",
    "plt.ylim(-30000, 30000)\n",
    "plt.plot(t_w, w)\n",
    "plt.title('y(2t)')\n",
    "plt.xlabel('Time (seconds)')\n",
    "plt.ylabel('Amplitude')\n",
    "\n",
    "plt.subplot(3, 1, 3)\n",
    "plt.xlim(0, 4)\n",
    "plt.ylim(-30000, 30000)\n",
    "plt.plot(t_v, v)\n",
    "plt.title('y(0.5t)')\n",
    "plt.xlabel('Time (seconds)')\n",
    "plt.ylabel('Amplitude')\n",
    "\n",
    "plt.tight_layout()\n"
   ]
  },
  {
   "cell_type": "markdown",
   "metadata": {},
   "source": [
    "###  Discussion\n",
    "\n",
    "#### What would happen if you used a time scaling factor of a=-1?\n",
    "If we used time scaling factor of a=-1, we would lose our data. All our data starts from when t=0 to a postive time. \n",
    "\n",
    "#### Suppose a student runs the figure command before every call to subplot. When you run your script, what changes do you expect to see? How will the plots change?\n",
    "If we ran the figure command before every call to subplot, we would have each subplot in a seperate figure (i.e Figure 1, Figure 2, Figure 3). The plots' data would not change, but rather the placement of the plots in each of the seperate figures. "
   ]
  },
  {
   "cell_type": "markdown",
   "metadata": {},
   "source": [
    "## Assignment 2 -- Time Shift Operation"
   ]
  },
  {
   "cell_type": "code",
   "execution_count": 4,
   "metadata": {},
   "outputs": [],
   "source": [
    "# Assignment 2 - Time Shift Operation\n",
    "\n",
    "# Part A\n",
    "# TODO: Code that solves A\n",
    "# Start with a comment section that explains what the input variables are\n",
    "def timeshift(x, fs, t0):\n",
    "    n0 = int(abs(t0*fs))\n",
    "    zeros = np.zeros(n0)\n",
    "    # for time delay\n",
    "    if(t0 < 0):\n",
    "        result = np.concatenate([zeros, x])\n",
    "         \n",
    "    # for time advance\n",
    "    else:\n",
    "        mod_x = x[0:n0]\n",
    "        result = np.concatenate([mod_x, zeros])\n",
    "        \n",
    "    t = np.arange(0, len(result), 1) * (1/fs)\n",
    "    return result, t\n",
    "\n",
    "\n"
   ]
  },
  {
   "cell_type": "code",
   "execution_count": 8,
   "metadata": {},
   "outputs": [
    {
     "ename": "SyntaxError",
     "evalue": "invalid syntax (<ipython-input-8-058e1f35fe48>, line 33)",
     "output_type": "error",
     "traceback": [
      "\u001b[1;36m  File \u001b[1;32m\"<ipython-input-8-058e1f35fe48>\"\u001b[1;36m, line \u001b[1;32m33\u001b[0m\n\u001b[1;33m    Uncomment before turnin!\u001b[0m\n\u001b[1;37m              ^\u001b[0m\n\u001b[1;31mSyntaxError\u001b[0m\u001b[1;31m:\u001b[0m invalid syntax\n"
     ]
    }
   ],
   "source": [
    "# Assignment 2 - Implementing the time shift function\n",
    "\n",
    "# Part B\n",
    "# TODO: Code that solves B\n",
    "fs, y = wav.read('train32.wav')\n",
    "t_y = np.arange(0, len(y), 1) * (1/fs) \n",
    "w, t_w = timeshift(y, fs, 0.5)\n",
    "v, t_v = timeshift(y, fs, -2)\n",
    "\n",
    "plt.subplot(3, 1, 1)\n",
    "plt.xlim(0, 4)\n",
    "plt.plot(t_y, y)\n",
    "plt.title('y(t)')\n",
    "plt.xlabel('Time (seconds)')\n",
    "plt.ylabel('Amplitude')\n",
    "\n",
    "plt.subplot(3, 1, 2)\n",
    "plt.xlim(0, 4)\n",
    "plt.plot(t_w, w)\n",
    "plt.title('y(t+0.5)')\n",
    "plt.xlabel('Time (seconds)')\n",
    "plt.ylabel('Amplitude')\n",
    "\n",
    "plt.subplot(3, 1, 3)\n",
    "plt.xlim(0, 4)\n",
    "plt.plot(t_v, v)\n",
    "plt.title('y(t-2)')\n",
    "plt.xlabel('Time (seconds)')\n",
    "plt.ylabel('Amplitude')\n",
    "\n",
    "plt.tight_layout()\n",
    "\n",
    "Uncomment before turnin!\n",
    "\n",
    "# Part C\n",
    "# TODO: Code that solves C\n",
    "#play_obj = sa.play_buffer(y, 1, 2, fs)\n",
    "#play_obj.wait_done()\n",
    "#play_obj1 = sa.play_buffer(w, 1, 2, fs)\n",
    "#play_obj1.wait_done()\n",
    "#play_obj2 = sa.play_buffer(v, 1, 2, fs)\n",
    "#play_obj2.wait_done()\n",
    "\n"
   ]
  },
  {
   "cell_type": "markdown",
   "metadata": {},
   "source": [
    "###  Discussion\n",
    "\n",
    "#### There is a trivial case that you should ideally test for. If the shift is zero, then the output is the original signal. If the shift is an advance bigger than the original signal, then the output will be zero. Comment on whether your current implementation correctly handles these cases and whether there a better implementation."
   ]
  },
  {
   "cell_type": "markdown",
   "metadata": {},
   "source": [
    "## Assignment 3 -- Recovering Popular TV/Movie Audio File"
   ]
  },
  {
   "cell_type": "code",
   "execution_count": 7,
   "metadata": {},
   "outputs": [],
   "source": [
    "# Assignment 3 -- Recovering Popular TV/Movie Audio File\n",
    "\n",
    "# Part A\n",
    "# TODO: Code that solves A\n",
    "\n",
    "# Part B\n",
    "# TODO: Code that solves B\n",
    "\n",
    "# Part C\n",
    "# TODO: Code that solves C\n"
   ]
  },
  {
   "cell_type": "markdown",
   "metadata": {},
   "source": [
    "### Discussion\n",
    "\n",
    "#### Specify which transformation was used by the mischievous student, and identify the movie or TV show your quote came from.\n"
   ]
  }
 ],
 "metadata": {
  "kernelspec": {
   "display_name": "Python 3",
   "language": "python",
   "name": "python3"
  },
  "language_info": {
   "codemirror_mode": {
    "name": "ipython",
    "version": 3
   },
   "file_extension": ".py",
   "mimetype": "text/x-python",
   "name": "python",
   "nbconvert_exporter": "python",
   "pygments_lexer": "ipython3",
   "version": "3.8.5"
  }
 },
 "nbformat": 4,
 "nbformat_minor": 2
}
