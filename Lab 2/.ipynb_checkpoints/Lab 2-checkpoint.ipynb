{
 "cells": [
  {
   "cell_type": "markdown",
   "metadata": {},
   "source": [
    "## Lab 2 Report\n",
    "\n",
    "Author names go here \n",
    "\n",
    "(This should be a markup cell, which means that when you run it you just get formated text.)"
   ]
  },
  {
   "cell_type": "code",
   "execution_count": 2,
   "metadata": {},
   "outputs": [],
   "source": [
    "# We'll refer to this as the \"import cell.\" Every module you import should be imported here.\n",
    "%matplotlib notebook\n",
    "import numpy as np\n",
    "import matplotlib\n",
    "import matplotlib.pyplot as plt\n",
    "# import whatever other modules you use in this lab -- there are more that you need than we've included "
   ]
  },
  {
   "cell_type": "markdown",
   "metadata": {},
   "source": [
    "## Assignment 1 --  Time Scaling Audio Signals"
   ]
  },
  {
   "cell_type": "code",
   "execution_count": 3,
   "metadata": {},
   "outputs": [],
   "source": [
    "# Assignment 1 - Time Scaling Function\n",
    "\n",
    "# Part A\n",
    "# TODO: Here you'd put in your code for the time scaling function\n",
    "# Start with a comment section that explains what the input and output variables are, e.g.\n",
    "# x: input signal vector\n",
    "# fs: sampling rate (in Hz)\n",
    "# a: scaling parameter \n",
    "# returns t: time samples vector corresponding to y: scaled signal\n"
   ]
  },
  {
   "cell_type": "code",
   "execution_count": 4,
   "metadata": {},
   "outputs": [],
   "source": [
    "# Assignment 1 - Playing and Plotting Time Scaled Audio Files \n",
    "\n",
    "# Part B\n",
    "# TODO: Code that solves B\n",
    "\n",
    "# Part C\n",
    "# TODO: Code that solves C\n",
    "\n",
    "# Part D\n",
    "# TODO: Code that solves D"
   ]
  },
  {
   "cell_type": "markdown",
   "metadata": {},
   "source": [
    "###  Discussion\n",
    "\n",
    "#### What would happen if you used a time scaling factor of a=-1?\n",
    "\n",
    "#### Suppose a student runs the figure command before every call to subplot. When you run your script, what changes do you expect to see? How will the plots change?\n",
    "\n"
   ]
  },
  {
   "cell_type": "markdown",
   "metadata": {},
   "source": [
    "## Assignment 2 -- Time Shift Operation"
   ]
  },
  {
   "cell_type": "code",
   "execution_count": 5,
   "metadata": {},
   "outputs": [],
   "source": [
    "# Assignment 2 - Time Shift Operation\n",
    "\n",
    "# Part A\n",
    "# TODO: Code that solves A\n",
    "# Start with a comment section that explains what the input variables are\n"
   ]
  },
  {
   "cell_type": "code",
   "execution_count": 6,
   "metadata": {},
   "outputs": [],
   "source": [
    "# Assignment 2 - Implementing the time shift function\n",
    "\n",
    "# Part B\n",
    "# TODO: Code that solves B\n",
    "\n",
    "# Part C\n",
    "# TODO: Code that solves C\n"
   ]
  },
  {
   "cell_type": "markdown",
   "metadata": {},
   "source": [
    "###  Discussion\n",
    "\n",
    "#### There is a trivial case that you should ideally test for. If the shift is zero, then the output is the original signal. If the shift is an advance bigger than the original signal, then the output will be zero. Comment on whether your current implementation correctly handles these cases and whether there a better implementation."
   ]
  },
  {
   "cell_type": "markdown",
   "metadata": {},
   "source": [
    "## Assignment 3 -- Recovering Popular TV/Movie Audio File"
   ]
  },
  {
   "cell_type": "code",
   "execution_count": 7,
   "metadata": {},
   "outputs": [],
   "source": [
    "# Assignment 3 -- Recovering Popular TV/Movie Audio File\n",
    "\n",
    "# Part A\n",
    "# TODO: Code that solves A\n",
    "\n",
    "# Part B\n",
    "# TODO: Code that solves B\n",
    "\n",
    "# Part C\n",
    "# TODO: Code that solves C\n"
   ]
  },
  {
   "cell_type": "markdown",
   "metadata": {},
   "source": [
    "### Discussion\n",
    "\n",
    "#### Specify which transformation was used by the mischievous student, and identify the movie or TV show your quote came from.\n"
   ]
  }
 ],
 "metadata": {
  "kernelspec": {
   "display_name": "Python 3",
   "language": "python",
   "name": "python3"
  },
  "language_info": {
   "codemirror_mode": {
    "name": "ipython",
    "version": 3
   },
   "file_extension": ".py",
   "mimetype": "text/x-python",
   "name": "python",
   "nbconvert_exporter": "python",
   "pygments_lexer": "ipython3",
   "version": "3.8.5"
  }
 },
 "nbformat": 4,
 "nbformat_minor": 2
}
