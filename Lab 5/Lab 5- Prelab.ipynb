{
 "cells": [
  {
   "cell_type": "code",
   "execution_count": 1,
   "metadata": {},
   "outputs": [],
   "source": [
    "import numpy as np"
   ]
  },
  {
   "cell_type": "code",
   "execution_count": 26,
   "metadata": {},
   "outputs": [
    {
     "name": "stdout",
     "output_type": "stream",
     "text": [
      "[[ 941. 1336.]\n",
      " [ 697. 1209.]\n",
      " [ 697. 1336.]\n",
      " [ 697. 1477.]\n",
      " [ 770. 1209.]\n",
      " [ 770. 1336.]\n",
      " [ 770. 1477.]\n",
      " [ 852. 1209.]\n",
      " [ 852. 1336.]\n",
      " [ 852. 1477.]]\n"
     ]
    }
   ],
   "source": [
    "tone_freqs = np.zeros(20).reshape(10,2)\n",
    "\n",
    "high = [1209,1336,1477]\n",
    "low = [697,770,852]\n",
    "\n",
    "tone_freqs[0][0] = 941\n",
    "tone_freqs[0][1] = 1336\n",
    "for i in range(1,4):\n",
    "    tone_freqs[i][0] = low[0]\n",
    "    tone_freqs[i][1] = high[i-1]\n",
    "    \n",
    "indx = 1\n",
    "for i in range(4,7):\n",
    "    tone_freqs[i][0] = low[1]\n",
    "    tone_freqs[i][1] = high[indx-1] \n",
    "    indx += 1\n",
    "\n",
    "indx = 1\n",
    "for i in range(7,10):\n",
    "    tone_freqs[i][0] = low[2]\n",
    "    tone_freqs[i][1] = high[indx-1]\n",
    "    indx += 1\n",
    "    \n",
    "print(tone_freqs)"
   ]
  },
  {
   "cell_type": "code",
   "execution_count": null,
   "metadata": {},
   "outputs": [],
   "source": []
  }
 ],
 "metadata": {
  "kernelspec": {
   "display_name": "Python 3",
   "language": "python",
   "name": "python3"
  },
  "language_info": {
   "codemirror_mode": {
    "name": "ipython",
    "version": 3
   },
   "file_extension": ".py",
   "mimetype": "text/x-python",
   "name": "python",
   "nbconvert_exporter": "python",
   "pygments_lexer": "ipython3",
   "version": "3.8.5"
  }
 },
 "nbformat": 4,
 "nbformat_minor": 4
}
