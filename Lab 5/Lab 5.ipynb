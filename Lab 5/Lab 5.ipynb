{
 "cells": [
  {
   "cell_type": "markdown",
   "metadata": {},
   "source": [
    "# Lab 5\n",
    "\n",
    "Paul Chung"
   ]
  },
  {
   "cell_type": "code",
   "execution_count": 2,
   "metadata": {},
   "outputs": [],
   "source": [
    "import numpy as np\n",
    "import matplotlib.pyplot as plt \n",
    "import simpleaudio as sa\n",
    "from scipy.io import wavfile as wav"
   ]
  },
  {
   "cell_type": "markdown",
   "metadata": {},
   "source": [
    "## Summary\n",
    "\n",
    "Insert summary of the lab"
   ]
  },
  {
   "cell_type": "markdown",
   "metadata": {},
   "source": [
    "## Assignment 1: Identifying Constituent Frequencies of a Signal"
   ]
  },
  {
   "cell_type": "code",
   "execution_count": 7,
   "metadata": {},
   "outputs": [
    {
     "name": "stdout",
     "output_type": "stream",
     "text": [
      "[-1335.9375   -941.40625   941.40625  1335.9375 ]\n",
      "[ 941.40625 1335.9375 ]\n"
     ]
    },
    {
     "data": {
      "image/png": "[encoded data removed]",
      "text/plain": [
       "<Figure size 432x288 with 2 Axes>"
      ]
     },
     "metadata": {
      "needs_background": "light"
     },
     "output_type": "display_data"
    }
   ],
   "source": [
    "# Assignment 1\n",
    "\n",
    "# Part A \n",
    "fs = 8000\n",
    "t = np.arange(0, 0.25, 1/fs)\n",
    "d0 = np.sin(2*np.pi*941*t) + np.sin(2*np.pi*1336*t)\n",
    "\n",
    "# Part B\n",
    "pause = np.zeros(int(0.5*fs))\n",
    "d0_scaled = np.concatenate([d0, pause, d0]) * 50\n",
    "outfile1 = 'd0.wav'\n",
    "wav.write(outfile1,fs,d0_scaled.astype('int16'))\n",
    "play_obj1 = sa.WaveObject.from_wave_file('d0.wav').play()\n",
    "play_obj1.wait_done()\n",
    "\n",
    "# Part C\n",
    "fig = plt.figure(1)\n",
    "plt.subplot(2, 1, 1)\n",
    "samples = 4096\n",
    "ftd0 = np.fft.fft(d0, samples)\n",
    "ftd0_shift = np.fft.fftshift(np.abs(ftd0))\n",
    "f_delta = fs/samples\n",
    "f = np.arange(-fs/2, fs/2, f_delta)\n",
    "plt.xlabel('f')\n",
    "plt.ylabel('ftd0')\n",
    "plt.title('f vs. ftd0')\n",
    "plt.plot(f, ftd0_shift)\n",
    "\n",
    "# Part D\n",
    "threshold = 900\n",
    "index = np.arange(len(ftd0_shift))\n",
    "indices = index[ftd0_shift[index] > threshold]\n",
    "freq = f[indices]\n",
    "index2 = np.arange(4)\n",
    "pos_indicies = index2[freq[index2] > 0]\n",
    "pos_freq = freq[pos_indicies]\n",
    "print(pos_freq)\n",
    "\n",
    "# Part E\n",
    "n = np.random.normal(0, 1, len(d0))\n",
    "plt.subplot(2, 1, 2)\n",
    "d0n = n + d0\n",
    "ftd0n = np.fft.fft(d0n, samples)\n",
    "ftd0n_shift = np.fft.fftshift(np.abs(ftd0n))\n",
    "plt.xlabel('f')\n",
    "plt.ylabel('ftd0n')\n",
    "plt.title('f vs. ftd0n')\n",
    "plt.plot(f, ftd0n_shift)\n",
    "\n",
    "plt.tight_layout()"
   ]
  },
  {
   "cell_type": "markdown",
   "metadata": {},
   "source": [
    "### Discussion 1\n",
    "\n",
    "•To identify component frequencies, we used a threshold value of 900.  Using your DFT magnitude plot,explain why a threshold of 100 would not work.2\n",
    "•Would that threshold identify more or fewer frequencies than the threshold of 900?\n",
    "•Comment on how the addition of noise changes the DFT plot.\n",
    "•What would the DFT look like if instead the signal had been v(t) = 1 + sin(2π(941)t) + sin(2π(1336)t)?\n",
    "\n",
    "If we used a theshold value of 100 instead of 900, we might identify other component frequencies that are do not actually exist. This can occur especially with noise as frequency components that should have a value of 0 might exceed a low threshold value of 100 with added noise. A lower threshold like 100 would allow more frequencies than a higher threshold of 900. If we add the + 1 constant to our signal v(t) then we should get an additional frequency component at f = 0. \n"
   ]
  },
  {
   "cell_type": "markdown",
   "metadata": {},
   "source": [
    "## Assignment 2: Classifying Touch-Tone Telephone Signals"
   ]
  },
  {
   "cell_type": "code",
   "execution_count": 84,
   "metadata": {},
   "outputs": [],
   "source": [
    "# Part A\n",
    "tone_freqs = np.array([[941, 1336],\n",
    "                      [697, 1209], \n",
    "                      [697, 1336],\n",
    "                      [697, 1477],\n",
    "                      [770, 1209],\n",
    "                      [770, 1336],\n",
    "                      [770, 1477],\n",
    "                      [852, 1209],\n",
    "                      [852, 1336],\n",
    "                      [852, 1477]])\n",
    "\n",
    "def classify(x, fs):\n",
    "    tone_freqs = np.array([[941, 1336],[697, 1209], [697, 1336],[697, 1477],[770, 1209], [770, 1336],\n",
    "                          [770, 1477],[852, 1209],[852, 1336],[852, 1477]])\n",
    "    \n",
    "    samples = 4096\n",
    "    xfft = np.fft.fft(x, samples)\n",
    "    xfft_abs = np.fft.fftshift(np.abs(xfft))\n",
    "    # after shift, frequencies are now centered around 0, -fs/2 to fs/2\n",
    "    delta_f = fs/samples\n",
    "    f = np.arange(-fs/2, fs/2, delta_f)\n",
    "    \n",
    "    threshold = 900\n",
    "    # filtering indices above threshold\n",
    "    ind = np.arange(len(xfft_abs))\n",
    "    index_tone = ind[xfft_abs[ind]>threshold]\n",
    "    freq_tone = f[index_tone]\n",
    "    # filtering indices that correspond to the positive frequencies\n",
    "    ind1 = np.arange(len(freq_tone))\n",
    "    pos_index_tone = ind1[freq_tone[ind1]>0]\n",
    "    pos_freq = freq_tone[pos_index_tone]\n",
    "    \n",
    "    # classifying which digit is closest to signal (least error)\n",
    "    min_e = 1\n",
    "    min_e_tone = 0\n",
    "    for digit in range(0, len(tone_freqs)):\n",
    "        # getting error between low frequency and high frequency of signal and current digit\n",
    "        digit_error = (tone_freqs[digit][0]-pos_freq[0])**2 + (tone_freqs[digit][1]-pos_freq[1])**2\n",
    "        if(digit_error < min_e):\n",
    "            mine_e = digit_error\n",
    "            min_e_tone = digit\n",
    "\n",
    "    return min_e_tone"
   ]
  },
  {
   "cell_type": "code",
   "execution_count": 89,
   "metadata": {},
   "outputs": [
    {
     "name": "stdout",
     "output_type": "stream",
     "text": [
      "0\n",
      "9\n"
     ]
    }
   ],
   "source": [
    "fs = 8000\n",
    "d0 = np.sin(2*np.pi*941*t) + np.sin(2*np.pi*1336*t)\n",
    "digit = classify(d0,fs)\n",
    "print(digit)\n",
    "\n",
    "d9 = np.sin(2*np.pi*852*t) + np.sin(2*np.pi*1477*t)\n",
    "digit = classify(d9, fs)\n",
    "print(digit)"
   ]
  },
  {
   "cell_type": "markdown",
   "metadata": {},
   "source": [
    "## Assignment 3: Decoding a Phone Number from Touch-Tone Signals"
   ]
  },
  {
   "cell_type": "code",
   "execution_count": 88,
   "metadata": {},
   "outputs": [
    {
     "name": "stdout",
     "output_type": "stream",
     "text": [
      "[1. 8. 0. 0. 7. 8. 6. 1. 0. 0. 0.]\n"
     ]
    }
   ],
   "source": [
    "fs = 8000\n",
    "file = open('phonenum.csv', 'rb')\n",
    "rm = np.loadtxt(file, delimiter=',')\n",
    "\n",
    "phone_num = np.ones(11) * -1\n",
    "\n",
    "for i in range(0, 11):\n",
    "    d_curr = rm[(i * 4000):((i + 1) * 4000)]\n",
    "    phone_num[i] = classify(d_curr, fs)\n",
    "\n",
    "print(phone_num)\n",
    "    "
   ]
  },
  {
   "cell_type": "markdown",
   "metadata": {},
   "source": [
    "The number above is to In-N-Out. "
   ]
  },
  {
   "cell_type": "code",
   "execution_count": null,
   "metadata": {},
   "outputs": [],
   "source": []
  }
 ],
 "metadata": {
  "kernelspec": {
   "display_name": "Python 3",
   "language": "python",
   "name": "python3"
  },
  "language_info": {
   "codemirror_mode": {
    "name": "ipython",
    "version": 3
   },
   "file_extension": ".py",
   "mimetype": "text/x-python",
   "name": "python",
   "nbconvert_exporter": "python",
   "pygments_lexer": "ipython3",
   "version": "3.8.5"
  }
 },
 "nbformat": 4,
 "nbformat_minor": 4
}
